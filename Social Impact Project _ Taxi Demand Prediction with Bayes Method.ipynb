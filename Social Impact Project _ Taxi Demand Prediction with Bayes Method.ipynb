{
 "cells": [
  {
   "cell_type": "code",
   "execution_count": 102,
   "metadata": {
    "collapsed": false,
    "scrolled": true
   },
   "outputs": [
    {
     "name": "stdout",
     "output_type": "stream",
     "text": [
      "Populating the interactive namespace from numpy and matplotlib\n"
     ]
    }
   ],
   "source": [
    "import networkx as nx #library supporting networks\n",
    "import matplotlib.pyplot as plt #plotting\n",
    "import pandas as pd\n",
    "import numpy as np\n",
    "import scipy.stats as stats\n",
    "#make sure plots are embedded into the notebook\n",
    "%pylab inline \n",
    "import statsmodels.formula.api as smf\n",
    "from scipy import optimize\n",
    "from scipy.spatial import distance\n",
    "import datetime\n",
    "import time"
   ]
  },
  {
   "cell_type": "code",
   "execution_count": 100,
   "metadata": {
    "collapsed": true
   },
   "outputs": [],
   "source": [
    "NTA = pd.read_csv(\"NTA_index.csv\")"
   ]
  },
  {
   "cell_type": "code",
   "execution_count": 388,
   "metadata": {
    "collapsed": false
   },
   "outputs": [],
   "source": [
    "def trainNaiveBayesDiscrete(trainData):\n",
    "    #training discrete Naive Bayes Classifier\n",
    "    tY=trainData.loc[:,trainData.columns[0]]\n",
    "    m=max([trainData[j][i] for j in trainData.columns[1:] for i in trainData.index]) #maximal number of classes in each feature of a training set\n",
    "    #create output data structure for the probabilities - same column labels, rows correspond to values of x and there are two arrays like that for different b\n",
    "    dp=[pd.DataFrame(columns=trainData.columns, index=range(1,m+1)), pd.DataFrame(columns=trainData.columns, index=range(1,m+1)),pd.DataFrame(columns=trainData.columns, index=range(1,m+1)),pd.DataFrame(columns=trainData.columns, index=range(1,m+1)),pd.DataFrame(columns=trainData.columns, index=range(1,m+1))]\n",
    "    #split the training data between two labels\n",
    "    ind1=tY==0\n",
    "    ind2=tY==1\n",
    "    ind3=tY==2\n",
    "    ind4=tY==3\n",
    "    ind5=tY==4\n",
    "\n",
    "    #estimate P(y=b)  \n",
    "    dp[0][trainData.columns[0]][1]=1.0*ind1.sum()/len(trainData.index)\n",
    "    dp[1][trainData.columns[0]][1]=1.0*ind2.sum()/len(trainData.index)\n",
    "    dp[2][trainData.columns[0]][1]=1.0*ind3.sum()/len(trainData.index)\n",
    "    dp[3][trainData.columns[0]][1]=1.0*ind4.sum()/len(trainData.index)\n",
    "    dp[4][trainData.columns[0]][1]=1.0*ind5.sum()/len(trainData.index)\n",
    "    \n",
    "    #estimate conditional probabilities P(x|y=b)\n",
    "    for j in trainData.columns[1:]:\n",
    "        for i in range(1,m+1):\n",
    "            dp[0].loc[i,j]=1.0*(trainData[j][ind1]==i).sum()/ind1.sum();\n",
    "            dp[1].loc[i,j]=1.0*(trainData[j][ind2]==i).sum()/ind2.sum();\n",
    "            dp[2].loc[i,j]=1.0*(trainData[j][ind3]==i).sum()/ind3.sum();\n",
    "            dp[3].loc[i,j]=1.0*(trainData[j][ind4]==i).sum()/ind4.sum();\n",
    "            dp[4].loc[i,j]=1.0*(trainData[j][ind5]==i).sum()/ind5.sum();\n",
    "    return dp\n",
    "\n",
    "\n",
    "def classifyNaiveBayesDiscrete(classData,dp):\n",
    "    #classifying using trained discrete Naive Bayes Classifier\n",
    "    Y=classData[classData.columns[0]]*0 #initialize the empty array \n",
    "    for i in classData.index: #for al records to classify\n",
    "        #start with the priors\n",
    "        P1=dp[0][classData.columns[0]][1]; \n",
    "        P2=dp[1][classData.columns[0]][1];\n",
    "        P3=dp[2][classData.columns[0]][1];\n",
    "        P4=dp[3][classData.columns[0]][1];\n",
    "        P5=dp[4][classData.columns[0]][1];\n",
    "\n",
    "        #and multiply them by the corresponding conditional probabilities P(x_i|y=b)\n",
    "        for j in classData.columns[1:]:\n",
    "            P1=P1*dp[0][j][classData[j][i]]\n",
    "            P2=P2*dp[1][j][classData[j][i]]\n",
    "            P3=P3*dp[2][j][classData[j][i]]\n",
    "            P4=P4*dp[3][j][classData[j][i]]\n",
    "            P5=P5*dp[4][j][classData[j][i]]\n",
    "    \n",
    "        Y[i]=argmax([P1,P2,P3,P4,P5]) #finally for each record decide which P(y|x) is higher and choose the label\n",
    "    \n",
    "    return Y"
   ]
  },
  {
   "cell_type": "markdown",
   "metadata": {},
   "source": [
    "## Bayes Classifier for Taxi demond prediction with weather, day of week, time of day and NTAName"
   ]
  },
  {
   "cell_type": "code",
   "execution_count": 74,
   "metadata": {
    "collapsed": false
   },
   "outputs": [],
   "source": [
    "weather = pd.read_csv('weather_data.csv')\n",
    "\n",
    "weather = weather.iloc[:,[0,1]]\n",
    "\n",
    "weather['date'] = pd.to_datetime(weather['date'])\n",
    "\n",
    "weather['weather_level'] = 0\n",
    "\n",
    "for i in weather.index:\n",
    "    value = weather.ix[i]['temp']\n",
    "    if value > 70:\n",
    "        weather.loc[i,['weather_level']] = 4\n",
    "    elif value > 55:\n",
    "        weather.loc[i,['weather_level']] = 3\n",
    "    elif value > 41:\n",
    "        weather.loc[i,['weather_level']] = 2\n",
    "    else:\n",
    "        weather.loc[i,['weather_level']] = 1\n",
    "        \n",
    "weather = weather.drop('temp', 1)"
   ]
  },
  {
   "cell_type": "code",
   "execution_count": 223,
   "metadata": {
    "collapsed": false
   },
   "outputs": [],
   "source": [
    "def step1(name):  \n",
    "    df = pd.read_csv(name)\n",
    "    df = df.iloc[:,[3,-2]]\n",
    "    df = df.dropna(how='any')\n",
    "    df.iloc[:,0] = pd.to_datetime(df.iloc[:,0], format='%y/%m/%d %H:%M:%S')\n",
    "    df['date'] = pd.to_datetime(df.iloc[:,0]).dt.date\n",
    "    df['hour'] = pd.to_datetime(df.iloc[:,0]).dt.hour\n",
    "    df['day'] = df.iloc[:,0].dt.weekday\n",
    "\n",
    "    df.date = pd.to_datetime(df.date)\n",
    "\n",
    "    df = pd.merge(df, weather, how='inner', on='date')\n",
    "    \n",
    "    return df"
   ]
  },
  {
   "cell_type": "code",
   "execution_count": 224,
   "metadata": {
    "collapsed": true
   },
   "outputs": [],
   "source": [
    "name = ['3.csv', '6.csv', '9.csv', '12.csv']\n",
    "wholedata = [0,0,0,0]"
   ]
  },
  {
   "cell_type": "code",
   "execution_count": 225,
   "metadata": {
    "collapsed": false,
    "scrolled": true
   },
   "outputs": [
    {
     "data": {
      "text/plain": [
       "1087.7540800571442"
      ]
     },
     "execution_count": 225,
     "metadata": {},
     "output_type": "execute_result"
    }
   ],
   "source": [
    "start = time.time()\n",
    "\n",
    "for i,j in enumerate(name):\n",
    "    wholedata[i] = step1(j)\n",
    "    \n",
    "time.time() - start"
   ]
  },
  {
   "cell_type": "code",
   "execution_count": 226,
   "metadata": {
    "collapsed": true
   },
   "outputs": [],
   "source": [
    "alldata = pd.concat(wholedata)"
   ]
  },
  {
   "cell_type": "code",
   "execution_count": 398,
   "metadata": {
    "collapsed": false
   },
   "outputs": [
    {
     "data": {
      "text/plain": [
       "(43157327, 6)"
      ]
     },
     "execution_count": 398,
     "metadata": {},
     "output_type": "execute_result"
    }
   ],
   "source": [
    "alldata.shape"
   ]
  },
  {
   "cell_type": "code",
   "execution_count": 399,
   "metadata": {
    "collapsed": false,
    "scrolled": true
   },
   "outputs": [
    {
     "data": {
      "text/html": [
       "<div>\n",
       "<table border=\"1\" class=\"dataframe\">\n",
       "  <thead>\n",
       "    <tr style=\"text-align: right;\">\n",
       "      <th></th>\n",
       "      <th>tpep_pickup_datetime</th>\n",
       "      <th>NTAName</th>\n",
       "      <th>date</th>\n",
       "      <th>hour</th>\n",
       "      <th>day</th>\n",
       "      <th>weather_level</th>\n",
       "    </tr>\n",
       "  </thead>\n",
       "  <tbody>\n",
       "    <tr>\n",
       "      <th>0</th>\n",
       "      <td>2015-03-24 13:42:22</td>\n",
       "      <td>Manhattanville</td>\n",
       "      <td>2015-03-24</td>\n",
       "      <td>13</td>\n",
       "      <td>1</td>\n",
       "      <td>1</td>\n",
       "    </tr>\n",
       "    <tr>\n",
       "      <th>1</th>\n",
       "      <td>2015-03-24 20:26:51</td>\n",
       "      <td>West Village</td>\n",
       "      <td>2015-03-24</td>\n",
       "      <td>20</td>\n",
       "      <td>1</td>\n",
       "      <td>1</td>\n",
       "    </tr>\n",
       "    <tr>\n",
       "      <th>2</th>\n",
       "      <td>2015-03-24 20:26:55</td>\n",
       "      <td>West Village</td>\n",
       "      <td>2015-03-24</td>\n",
       "      <td>20</td>\n",
       "      <td>1</td>\n",
       "      <td>1</td>\n",
       "    </tr>\n",
       "    <tr>\n",
       "      <th>3</th>\n",
       "      <td>2015-03-24 13:42:22</td>\n",
       "      <td>West Village</td>\n",
       "      <td>2015-03-24</td>\n",
       "      <td>13</td>\n",
       "      <td>1</td>\n",
       "      <td>1</td>\n",
       "    </tr>\n",
       "    <tr>\n",
       "      <th>4</th>\n",
       "      <td>2015-03-24 13:42:23</td>\n",
       "      <td>West Village</td>\n",
       "      <td>2015-03-24</td>\n",
       "      <td>13</td>\n",
       "      <td>1</td>\n",
       "      <td>1</td>\n",
       "    </tr>\n",
       "  </tbody>\n",
       "</table>\n",
       "</div>"
      ],
      "text/plain": [
       "  tpep_pickup_datetime         NTAName       date  hour  day  weather_level\n",
       "0  2015-03-24 13:42:22  Manhattanville 2015-03-24    13    1              1\n",
       "1  2015-03-24 20:26:51    West Village 2015-03-24    20    1              1\n",
       "2  2015-03-24 20:26:55    West Village 2015-03-24    20    1              1\n",
       "3  2015-03-24 13:42:22    West Village 2015-03-24    13    1              1\n",
       "4  2015-03-24 13:42:23    West Village 2015-03-24    13    1              1"
      ]
     },
     "execution_count": 399,
     "metadata": {},
     "output_type": "execute_result"
    }
   ],
   "source": [
    "alldata.head()"
   ]
  },
  {
   "cell_type": "code",
   "execution_count": 400,
   "metadata": {
    "collapsed": true
   },
   "outputs": [],
   "source": [
    "df = alldata.groupby(['NTAName','hour','day','weather_level']).count()\n",
    "\n",
    "df.reset_index(level=0, inplace=True)\n",
    "df.reset_index(level=0, inplace=True)\n",
    "df.reset_index(level=0, inplace=True)\n",
    "df.reset_index(level=0, inplace=True)\n",
    "df = df.iloc[:,[0,1,2,3,4]]\n",
    "\n",
    "df.columns = ['weather_level','day of week','time of day','NTAName','demond']"
   ]
  },
  {
   "cell_type": "code",
   "execution_count": 401,
   "metadata": {
    "collapsed": false
   },
   "outputs": [
    {
     "data": {
      "text/plain": [
       "(18803, 5)"
      ]
     },
     "execution_count": 401,
     "metadata": {},
     "output_type": "execute_result"
    }
   ],
   "source": [
    "df.shape"
   ]
  },
  {
   "cell_type": "code",
   "execution_count": 394,
   "metadata": {
    "collapsed": false,
    "scrolled": true
   },
   "outputs": [
    {
     "data": {
      "text/html": [
       "<div>\n",
       "<table border=\"1\" class=\"dataframe\">\n",
       "  <thead>\n",
       "    <tr style=\"text-align: right;\">\n",
       "      <th></th>\n",
       "      <th>day of week</th>\n",
       "      <th>time of day</th>\n",
       "      <th>NTAName</th>\n",
       "      <th>demond</th>\n",
       "    </tr>\n",
       "  </thead>\n",
       "  <tbody>\n",
       "    <tr>\n",
       "      <th>0</th>\n",
       "      <td>1</td>\n",
       "      <td>3</td>\n",
       "      <td>Marble Hill-Inwood</td>\n",
       "      <td>5</td>\n",
       "    </tr>\n",
       "    <tr>\n",
       "      <th>1</th>\n",
       "      <td>2</td>\n",
       "      <td>10</td>\n",
       "      <td>Marble Hill-Inwood</td>\n",
       "      <td>8</td>\n",
       "    </tr>\n",
       "    <tr>\n",
       "      <th>2</th>\n",
       "      <td>0</td>\n",
       "      <td>3</td>\n",
       "      <td>Marble Hill-Inwood</td>\n",
       "      <td>9</td>\n",
       "    </tr>\n",
       "    <tr>\n",
       "      <th>3</th>\n",
       "      <td>2</td>\n",
       "      <td>16</td>\n",
       "      <td>Marble Hill-Inwood</td>\n",
       "      <td>10</td>\n",
       "    </tr>\n",
       "    <tr>\n",
       "      <th>4</th>\n",
       "      <td>1</td>\n",
       "      <td>2</td>\n",
       "      <td>Marble Hill-Inwood</td>\n",
       "      <td>10</td>\n",
       "    </tr>\n",
       "  </tbody>\n",
       "</table>\n",
       "</div>"
      ],
      "text/plain": [
       "   day of week  time of day             NTAName  demond\n",
       "0            1            3  Marble Hill-Inwood       5\n",
       "1            2           10  Marble Hill-Inwood       8\n",
       "2            0            3  Marble Hill-Inwood       9\n",
       "3            2           16  Marble Hill-Inwood      10\n",
       "4            1            2  Marble Hill-Inwood      10"
      ]
     },
     "execution_count": 394,
     "metadata": {},
     "output_type": "execute_result"
    }
   ],
   "source": [
    "df.head()"
   ]
  },
  {
   "cell_type": "code",
   "execution_count": 402,
   "metadata": {
    "collapsed": false,
    "scrolled": false
   },
   "outputs": [
    {
     "name": "stderr",
     "output_type": "stream",
     "text": [
      "/Users/Tianqi/anaconda/lib/python2.7/site-packages/ipykernel/__main__.py:1: FutureWarning: sort(columns=....) is deprecated, use sort_values(by=.....)\n",
      "  if __name__ == '__main__':\n"
     ]
    }
   ],
   "source": [
    "df1 = df.sort(columns='demond')\n",
    "df1 = df1.reset_index(level=0)\n",
    "df1 = df1.drop('index',1)"
   ]
  },
  {
   "cell_type": "code",
   "execution_count": 403,
   "metadata": {
    "collapsed": false
   },
   "outputs": [
    {
     "data": {
      "text/plain": [
       "(18803, 5)"
      ]
     },
     "execution_count": 403,
     "metadata": {},
     "output_type": "execute_result"
    }
   ],
   "source": [
    "df1.shape"
   ]
  },
  {
   "cell_type": "code",
   "execution_count": 404,
   "metadata": {
    "collapsed": false,
    "scrolled": false
   },
   "outputs": [
    {
     "data": {
      "text/html": [
       "<div>\n",
       "<table border=\"1\" class=\"dataframe\">\n",
       "  <thead>\n",
       "    <tr style=\"text-align: right;\">\n",
       "      <th></th>\n",
       "      <th>weather_level</th>\n",
       "      <th>day of week</th>\n",
       "      <th>time of day</th>\n",
       "      <th>NTAName</th>\n",
       "      <th>demond</th>\n",
       "    </tr>\n",
       "  </thead>\n",
       "  <tbody>\n",
       "    <tr>\n",
       "      <th>0</th>\n",
       "      <td>1</td>\n",
       "      <td>4</td>\n",
       "      <td>16</td>\n",
       "      <td>Marble Hill-Inwood</td>\n",
       "      <td>1</td>\n",
       "    </tr>\n",
       "    <tr>\n",
       "      <th>1</th>\n",
       "      <td>3</td>\n",
       "      <td>2</td>\n",
       "      <td>11</td>\n",
       "      <td>Marble Hill-Inwood</td>\n",
       "      <td>1</td>\n",
       "    </tr>\n",
       "    <tr>\n",
       "      <th>2</th>\n",
       "      <td>4</td>\n",
       "      <td>0</td>\n",
       "      <td>8</td>\n",
       "      <td>Marble Hill-Inwood</td>\n",
       "      <td>1</td>\n",
       "    </tr>\n",
       "    <tr>\n",
       "      <th>3</th>\n",
       "      <td>2</td>\n",
       "      <td>1</td>\n",
       "      <td>11</td>\n",
       "      <td>Marble Hill-Inwood</td>\n",
       "      <td>1</td>\n",
       "    </tr>\n",
       "    <tr>\n",
       "      <th>4</th>\n",
       "      <td>4</td>\n",
       "      <td>0</td>\n",
       "      <td>9</td>\n",
       "      <td>Washington Heights North</td>\n",
       "      <td>1</td>\n",
       "    </tr>\n",
       "  </tbody>\n",
       "</table>\n",
       "</div>"
      ],
      "text/plain": [
       "   weather_level  day of week  time of day                   NTAName  demond\n",
       "0              1            4           16        Marble Hill-Inwood       1\n",
       "1              3            2           11        Marble Hill-Inwood       1\n",
       "2              4            0            8        Marble Hill-Inwood       1\n",
       "3              2            1           11        Marble Hill-Inwood       1\n",
       "4              4            0            9  Washington Heights North       1"
      ]
     },
     "execution_count": 404,
     "metadata": {},
     "output_type": "execute_result"
    }
   ],
   "source": [
    "df1.head()"
   ]
  },
  {
   "cell_type": "code",
   "execution_count": 406,
   "metadata": {
    "collapsed": false,
    "scrolled": true
   },
   "outputs": [
    {
     "data": {
      "text/plain": [
       "[<matplotlib.lines.Line2D at 0x1fd536290>]"
      ]
     },
     "execution_count": 406,
     "metadata": {},
     "output_type": "execute_result"
    },
    {
     "data": {
      "image/png": "[encoded data removed]",
      "text/plain": [
       "<matplotlib.figure.Figure at 0x15dec37d0>"
      ]
     },
     "metadata": {},
     "output_type": "display_data"
    }
   ],
   "source": [
    "# plt.plot()\n",
    "plt.plot(range(len(df1)),df1.demond)"
   ]
  },
  {
   "cell_type": "code",
   "execution_count": 405,
   "metadata": {
    "collapsed": false
   },
   "outputs": [
    {
     "name": "stdout",
     "output_type": "stream",
     "text": [
      "4700.5\n",
      "9401.0\n",
      "14101.5\n",
      "16921.8\n"
     ]
    }
   ],
   "source": [
    "print 18802*.25\n",
    "print 18802*.5\n",
    "print 18802*.75\n",
    "print 18802*.90"
   ]
  },
  {
   "cell_type": "code",
   "execution_count": 261,
   "metadata": {
    "collapsed": false
   },
   "outputs": [
    {
     "data": {
      "text/plain": [
       "2295.236238898048"
      ]
     },
     "execution_count": 261,
     "metadata": {},
     "output_type": "execute_result"
    }
   ],
   "source": [
    "mean(df1.demond)"
   ]
  },
  {
   "cell_type": "code",
   "execution_count": 339,
   "metadata": {
    "collapsed": false,
    "scrolled": true
   },
   "outputs": [
    {
     "name": "stdout",
     "output_type": "stream",
     "text": [
      "155\n",
      "812\n",
      "3360\n",
      "6103\n"
     ]
    }
   ],
   "source": [
    "print df1.iloc[4700,4]  # 25%\n",
    "print df1.iloc[9401,4]  # 50%\n",
    "print df1.iloc[14101,4]  # 75%\n",
    "print df1.iloc[16922,4]  #90%"
   ]
  },
  {
   "cell_type": "code",
   "execution_count": 340,
   "metadata": {
    "collapsed": true
   },
   "outputs": [],
   "source": [
    "def clean(data):\n",
    "    df = pd.merge(data, NTA, how='inner', on='NTAName')\n",
    "    df = df.drop('NTAName', 1)\n",
    "    df['demond_level'] = 0\n",
    "    for i in df.index:\n",
    "        value = df.ix[i]['demond']\n",
    "        if value > 6103:\n",
    "            df.loc[i,['demond_level']] = 4\n",
    "        elif value > 3360:\n",
    "            df.loc[i,['demond_level']] = 3\n",
    "        elif value > 812:\n",
    "            df.loc[i,['demond_level']] = 2\n",
    "        elif value > 155:\n",
    "            df.loc[i,['demond_level']] = 1\n",
    "        else:\n",
    "            df.loc[i,['demond_level']] = 0\n",
    "    df = df.drop('demond', 1)\n",
    "    \n",
    "    y_train=df.iloc[:,-1] \n",
    "    X_train=df.iloc[:,:-1]\n",
    "    \n",
    "    train = pd.concat([y_train,X_train],axis=1)\n",
    "    \n",
    "    train['day of week'] = train['day of week']+1\n",
    "    train['time of day'] = train['time of day']+1\n",
    "    train['NTA'] = train['NTA']+1\n",
    "    \n",
    "    return train"
   ]
  },
  {
   "cell_type": "code",
   "execution_count": 341,
   "metadata": {
    "collapsed": true
   },
   "outputs": [],
   "source": [
    "data_train = clean(df1)"
   ]
  },
  {
   "cell_type": "code",
   "execution_count": 407,
   "metadata": {
    "collapsed": false,
    "scrolled": true
   },
   "outputs": [
    {
     "data": {
      "text/html": [
       "<div>\n",
       "<table border=\"1\" class=\"dataframe\">\n",
       "  <thead>\n",
       "    <tr style=\"text-align: right;\">\n",
       "      <th></th>\n",
       "      <th>demond_level</th>\n",
       "      <th>weather_level</th>\n",
       "      <th>day of week</th>\n",
       "      <th>time of day</th>\n",
       "      <th>NTA</th>\n",
       "    </tr>\n",
       "  </thead>\n",
       "  <tbody>\n",
       "    <tr>\n",
       "      <th>0</th>\n",
       "      <td>0</td>\n",
       "      <td>1</td>\n",
       "      <td>5</td>\n",
       "      <td>17</td>\n",
       "      <td>28</td>\n",
       "    </tr>\n",
       "    <tr>\n",
       "      <th>1</th>\n",
       "      <td>0</td>\n",
       "      <td>3</td>\n",
       "      <td>3</td>\n",
       "      <td>12</td>\n",
       "      <td>28</td>\n",
       "    </tr>\n",
       "    <tr>\n",
       "      <th>2</th>\n",
       "      <td>0</td>\n",
       "      <td>4</td>\n",
       "      <td>1</td>\n",
       "      <td>9</td>\n",
       "      <td>28</td>\n",
       "    </tr>\n",
       "    <tr>\n",
       "      <th>3</th>\n",
       "      <td>0</td>\n",
       "      <td>2</td>\n",
       "      <td>2</td>\n",
       "      <td>12</td>\n",
       "      <td>28</td>\n",
       "    </tr>\n",
       "    <tr>\n",
       "      <th>4</th>\n",
       "      <td>0</td>\n",
       "      <td>2</td>\n",
       "      <td>6</td>\n",
       "      <td>14</td>\n",
       "      <td>28</td>\n",
       "    </tr>\n",
       "  </tbody>\n",
       "</table>\n",
       "</div>"
      ],
      "text/plain": [
       "   demond_level  weather_level  day of week  time of day  NTA\n",
       "0             0              1            5           17   28\n",
       "1             0              3            3           12   28\n",
       "2             0              4            1            9   28\n",
       "3             0              2            2           12   28\n",
       "4             0              2            6           14   28"
      ]
     },
     "execution_count": 407,
     "metadata": {},
     "output_type": "execute_result"
    }
   ],
   "source": [
    "data_train.head()"
   ]
  },
  {
   "cell_type": "code",
   "execution_count": 350,
   "metadata": {
    "collapsed": false
   },
   "outputs": [],
   "source": [
    "ind=stats.bernoulli.rvs(p = 0.75, size = len(data_train.index))\n",
    "train=data_train[ind==1]\n",
    "test=data_train[ind==0]"
   ]
  },
  {
   "cell_type": "code",
   "execution_count": 351,
   "metadata": {
    "collapsed": false,
    "scrolled": false
   },
   "outputs": [
    {
     "data": {
      "text/plain": [
       "[   demond_level weather_level day of week time of day          NTA\n",
       " 1      0.250337      0.226474    0.155612   0.0348639     0.138039\n",
       " 2           NaN      0.258787    0.144841   0.0484694            0\n",
       " 3           NaN      0.252268    0.146825   0.0600907            0\n",
       " 4           NaN      0.262472    0.144274   0.0711451    0.0428005\n",
       " 5           NaN             0    0.144841   0.0643424            0\n",
       " 6           NaN             0    0.130952   0.0569728            0\n",
       " 7           NaN             0    0.132653   0.0368481            0\n",
       " 8           NaN             0           0   0.0311791            0\n",
       " 9           NaN             0           0   0.0280612     0.138322\n",
       " 10          NaN             0           0   0.0388322    0.0226757\n",
       " 11          NaN             0           0   0.0396825  0.000283447\n",
       " 12          NaN             0           0   0.0410998            0\n",
       " 13          NaN             0           0    0.037415   0.00198413\n",
       " 14          NaN             0           0   0.0391156   0.00141723\n",
       " 15          NaN             0           0   0.0382653   0.00113379\n",
       " 16          NaN             0           0   0.0396825     0.018424\n",
       " 17          NaN             0           0   0.0408163            0\n",
       " 18          NaN             0           0   0.0331633    0.0433673\n",
       " 19          NaN             0           0   0.0337302  0.000283447\n",
       " 20          NaN             0           0   0.0382653            0\n",
       " 21          NaN             0           0   0.0354308    0.0124717\n",
       " 22          NaN             0           0    0.037415     0.138889\n",
       " 23          NaN             0           0   0.0359977     0.136338\n",
       " 24          NaN             0           0   0.0391156     0.117914\n",
       " 25          NaN             0           0           0     0.042517\n",
       " 26          NaN             0           0           0  0.000283447\n",
       " 27          NaN             0           0           0   0.00170068\n",
       " 28          NaN             0           0           0     0.141156,\n",
       "    demond_level weather_level day of week time of day         NTA\n",
       " 1      0.250266       0.26283    0.137794    0.036575   0.0031188\n",
       " 2           NaN      0.254891    0.139212   0.0447973  0.00453643\n",
       " 3           NaN      0.243266    0.143181   0.0569889  0.00708818\n",
       " 4           NaN      0.239013    0.148568   0.0558548   0.0969663\n",
       " 5           NaN             0    0.144315    0.067763           0\n",
       " 6           NaN             0    0.141196   0.0700312   0.0127587\n",
       " 7           NaN             0    0.145733   0.0569889   0.0243833\n",
       " 8           NaN             0           0   0.0481996  0.00113411\n",
       " 9           NaN             0           0   0.0453643  0.00907287\n",
       " 10          NaN             0           0   0.0351574    0.115396\n",
       " 11          NaN             0           0   0.0340232   0.0660618\n",
       " 12          NaN             0           0   0.0348738   0.0181457\n",
       " 13          NaN             0           0   0.0385597    0.031188\n",
       " 14          NaN             0           0   0.0377091   0.0266515\n",
       " 15          NaN             0           0   0.0357244   0.0243833\n",
       " 16          NaN             0           0   0.0337397     0.11738\n",
       " 17          NaN             0           0   0.0328891   0.0172952\n",
       " 18          NaN             0           0   0.0368585   0.0958322\n",
       " 19          NaN             0           0   0.0326056   0.0255174\n",
       " 20          NaN             0           0    0.031755   0.0150269\n",
       " 21          NaN             0           0   0.0309045     0.10292\n",
       " 22          NaN             0           0   0.0323221           0\n",
       " 23          NaN             0           0   0.0337397  0.00368585\n",
       " 24          NaN             0           0    0.036575    0.025801\n",
       " 25          NaN             0           0           0    0.104054\n",
       " 26          NaN             0           0           0   0.0204139\n",
       " 27          NaN             0           0           0    0.031188\n",
       " 28          NaN             0           0           0           0,\n",
       "    demond_level weather_level day of week time of day         NTA\n",
       " 1      0.249911      0.252981    0.137422   0.0582056           0\n",
       " 2           NaN      0.245599    0.116979   0.0496877   0.0397501\n",
       " 3           NaN      0.254401     0.12862   0.0374787   0.0775128\n",
       " 4           NaN      0.247019    0.136854   0.0309483           0\n",
       " 5           NaN             0    0.156729   0.0292447   0.0176036\n",
       " 6           NaN             0    0.155593   0.0400341   0.0411698\n",
       " 7           NaN             0    0.167802   0.0610449    0.056502\n",
       " 8           NaN             0           0   0.0479841   0.0298126\n",
       " 9           NaN             0           0   0.0459966           0\n",
       " 10          NaN             0           0   0.0451448  0.00823396\n",
       " 11          NaN             0           0   0.0434412   0.0653038\n",
       " 12          NaN             0           0   0.0391823   0.0550823\n",
       " 13          NaN             0           0   0.0400341   0.0914253\n",
       " 14          NaN             0           0   0.0423055     0.09682\n",
       " 15          NaN             0           0   0.0388984    0.028393\n",
       " 16          NaN             0           0   0.0420216   0.0048268\n",
       " 17          NaN             0           0   0.0502555   0.0576377\n",
       " 18          NaN             0           0   0.0406019           0\n",
       " 19          NaN             0           0   0.0329358    0.101363\n",
       " 20          NaN             0           0   0.0306644   0.0990914\n",
       " 21          NaN             0           0   0.0340716   0.0298126\n",
       " 22          NaN             0           0   0.0354912           0\n",
       " 23          NaN             0           0   0.0349233           0\n",
       " 24          NaN             0           0   0.0494037           0\n",
       " 25          NaN             0           0           0           0\n",
       " 26          NaN             0           0           0   0.0423055\n",
       " 27          NaN             0           0           0   0.0573538\n",
       " 28          NaN             0           0           0           0,\n",
       "    demond_level weather_level day of week time of day         NTA\n",
       " 1      0.150571      0.260132     0.12394   0.0325165           0\n",
       " 2           NaN      0.247879    0.155985   0.0179076   0.0989632\n",
       " 3           NaN      0.263431      0.1541   0.0122526   0.0918944\n",
       " 4           NaN      0.228558    0.151744  0.00942507           0\n",
       " 5           NaN             0    0.140905  0.00659755   0.0216777\n",
       " 6           NaN             0    0.147031  0.00235627   0.0744581\n",
       " 7           NaN             0    0.126296   0.0164939   0.0975495\n",
       " 8           NaN             0           0   0.0452403   0.0513666\n",
       " 9           NaN             0           0   0.0438266           0\n",
       " 10          NaN             0           0   0.0508954           0\n",
       " 11          NaN             0           0   0.0532516  0.00801131\n",
       " 12          NaN             0           0   0.0574929   0.0933082\n",
       " 13          NaN             0           0   0.0570217   0.0320452\n",
       " 14          NaN             0           0   0.0556079   0.0306315\n",
       " 15          NaN             0           0   0.0532516   0.0452403\n",
       " 16          NaN             0           0   0.0499529           0\n",
       " 17          NaN             0           0   0.0428841    0.102262\n",
       " 18          NaN             0           0   0.0560792           0\n",
       " 19          NaN             0           0   0.0584354   0.0221489\n",
       " 20          NaN             0           0   0.0556079   0.0386428\n",
       " 21          NaN             0           0   0.0598492           0\n",
       " 22          NaN             0           0   0.0570217           0\n",
       " 23          NaN             0           0   0.0570217           0\n",
       " 24          NaN             0           0   0.0490104           0\n",
       " 25          NaN             0           0           0           0\n",
       " 26          NaN             0           0           0    0.102262\n",
       " 27          NaN             0           0           0   0.0895382\n",
       " 28          NaN             0           0           0           0,\n",
       "    demond_level weather_level day of week time of day         NTA\n",
       " 1     0.0989144      0.266858    0.134146   0.0394548           0\n",
       " 2           NaN      0.228838     0.17934   0.0222382   0.0997131\n",
       " 3           NaN      0.243185    0.161406   0.0157819  0.00860832\n",
       " 4           NaN      0.261119    0.131994    0.010043           0\n",
       " 5           NaN             0    0.133429  0.00215208    0.276184\n",
       " 6           NaN             0    0.132712           0    0.121951\n",
       " 7           NaN             0    0.126973    0.010043   0.0150646\n",
       " 8           NaN             0           0   0.0315638    0.201578\n",
       " 9           NaN             0           0   0.0502152           0\n",
       " 10          NaN             0           0    0.043759           0\n",
       " 11          NaN             0           0   0.0423242  0.00860832\n",
       " 12          NaN             0           0   0.0516499   0.0351506\n",
       " 13          NaN             0           0   0.0523673           0\n",
       " 14          NaN             0           0   0.0509326           0\n",
       " 15          NaN             0           0   0.0530846    0.147776\n",
       " 16          NaN             0           0   0.0545194           0\n",
       " 17          NaN             0           0   0.0373027   0.0236729\n",
       " 18          NaN             0           0   0.0516499           0\n",
       " 19          NaN             0           0   0.0688666           0\n",
       " 20          NaN             0           0   0.0803443   0.0136298\n",
       " 21          NaN             0           0   0.0624103           0\n",
       " 22          NaN             0           0   0.0659971           0\n",
       " 23          NaN             0           0   0.0588235           0\n",
       " 24          NaN             0           0   0.0444763           0\n",
       " 25          NaN             0           0           0           0\n",
       " 26          NaN             0           0           0   0.0430416\n",
       " 27          NaN             0           0           0  0.00502152\n",
       " 28          NaN             0           0           0           0]"
      ]
     },
     "execution_count": 351,
     "metadata": {},
     "output_type": "execute_result"
    }
   ],
   "source": [
    "dp=trainNaiveBayesDiscrete(train)\n",
    "dp"
   ]
  },
  {
   "cell_type": "code",
   "execution_count": 352,
   "metadata": {
    "collapsed": false,
    "scrolled": true
   },
   "outputs": [
    {
     "data": {
      "text/plain": [
       "71.46496815286625"
      ]
     },
     "execution_count": 352,
     "metadata": {},
     "output_type": "execute_result"
    }
   ],
   "source": [
    "#run the classifier over the test sample\n",
    "C=classifyNaiveBayesDiscrete(test,dp)\n",
    "100.0*sum(C==test.demond_level)/len(C)"
   ]
  },
  {
   "cell_type": "code",
   "execution_count": 353,
   "metadata": {
    "collapsed": false
   },
   "outputs": [
    {
     "data": {
      "text/plain": [
       "71.57454055204711"
      ]
     },
     "execution_count": 353,
     "metadata": {},
     "output_type": "execute_result"
    }
   ],
   "source": [
    "#also compute the accuracy over the training set\n",
    "Ct=classifyNaiveBayesDiscrete(train,dp)\n",
    "100.0*sum(Ct==train.demond_level)/len(Ct)"
   ]
  },
  {
   "cell_type": "markdown",
   "metadata": {},
   "source": [
    "### Without Weather"
   ]
  },
  {
   "cell_type": "code",
   "execution_count": 411,
   "metadata": {
    "collapsed": false
   },
   "outputs": [],
   "source": [
    "df = alldata.groupby(['NTAName','hour','day']).count()\n",
    "df.reset_index(level=0, inplace=True)\n",
    "df.reset_index(level=0, inplace=True)\n",
    "df.reset_index(level=0, inplace=True)\n",
    "df = df.iloc[:,[0,1,2,3]]\n",
    "df.columns = ['day of week','time of day','NTAName','demond']"
   ]
  },
  {
   "cell_type": "code",
   "execution_count": 412,
   "metadata": {
    "collapsed": false,
    "scrolled": true
   },
   "outputs": [
    {
     "name": "stderr",
     "output_type": "stream",
     "text": [
      "/Users/Tianqi/anaconda/lib/python2.7/site-packages/ipykernel/__main__.py:1: FutureWarning: sort(columns=....) is deprecated, use sort_values(by=.....)\n",
      "  if __name__ == '__main__':\n"
     ]
    }
   ],
   "source": [
    "df = df.sort(columns='demond')\n",
    "df = df.reset_index(level=0)\n",
    "df = df.drop('index',1)"
   ]
  },
  {
   "cell_type": "code",
   "execution_count": 413,
   "metadata": {
    "collapsed": false
   },
   "outputs": [
    {
     "data": {
      "text/plain": [
       "(4704, 4)"
      ]
     },
     "execution_count": 413,
     "metadata": {},
     "output_type": "execute_result"
    }
   ],
   "source": [
    "df.shape"
   ]
  },
  {
   "cell_type": "code",
   "execution_count": 414,
   "metadata": {
    "collapsed": false,
    "scrolled": true
   },
   "outputs": [
    {
     "data": {
      "text/html": [
       "<div>\n",
       "<table border=\"1\" class=\"dataframe\">\n",
       "  <thead>\n",
       "    <tr style=\"text-align: right;\">\n",
       "      <th></th>\n",
       "      <th>day of week</th>\n",
       "      <th>time of day</th>\n",
       "      <th>NTAName</th>\n",
       "      <th>demond</th>\n",
       "    </tr>\n",
       "  </thead>\n",
       "  <tbody>\n",
       "    <tr>\n",
       "      <th>0</th>\n",
       "      <td>1</td>\n",
       "      <td>3</td>\n",
       "      <td>Marble Hill-Inwood</td>\n",
       "      <td>5</td>\n",
       "    </tr>\n",
       "    <tr>\n",
       "      <th>1</th>\n",
       "      <td>2</td>\n",
       "      <td>10</td>\n",
       "      <td>Marble Hill-Inwood</td>\n",
       "      <td>8</td>\n",
       "    </tr>\n",
       "    <tr>\n",
       "      <th>2</th>\n",
       "      <td>0</td>\n",
       "      <td>3</td>\n",
       "      <td>Marble Hill-Inwood</td>\n",
       "      <td>9</td>\n",
       "    </tr>\n",
       "    <tr>\n",
       "      <th>3</th>\n",
       "      <td>2</td>\n",
       "      <td>16</td>\n",
       "      <td>Marble Hill-Inwood</td>\n",
       "      <td>10</td>\n",
       "    </tr>\n",
       "    <tr>\n",
       "      <th>4</th>\n",
       "      <td>1</td>\n",
       "      <td>2</td>\n",
       "      <td>Marble Hill-Inwood</td>\n",
       "      <td>10</td>\n",
       "    </tr>\n",
       "  </tbody>\n",
       "</table>\n",
       "</div>"
      ],
      "text/plain": [
       "   day of week  time of day             NTAName  demond\n",
       "0            1            3  Marble Hill-Inwood       5\n",
       "1            2           10  Marble Hill-Inwood       8\n",
       "2            0            3  Marble Hill-Inwood       9\n",
       "3            2           16  Marble Hill-Inwood      10\n",
       "4            1            2  Marble Hill-Inwood      10"
      ]
     },
     "execution_count": 414,
     "metadata": {},
     "output_type": "execute_result"
    }
   ],
   "source": [
    "df.head()"
   ]
  },
  {
   "cell_type": "code",
   "execution_count": 415,
   "metadata": {
    "collapsed": false
   },
   "outputs": [
    {
     "name": "stdout",
     "output_type": "stream",
     "text": [
      "1175.75\n",
      "2351.5\n",
      "3527.25\n",
      "4232.7\n"
     ]
    }
   ],
   "source": [
    "print 4703*.25\n",
    "print 4703*.5\n",
    "print 4703*.75\n",
    "print 4703*.90"
   ]
  },
  {
   "cell_type": "code",
   "execution_count": 416,
   "metadata": {
    "collapsed": false
   },
   "outputs": [
    {
     "name": "stdout",
     "output_type": "stream",
     "text": [
      "648\n",
      "3246\n",
      "13763\n",
      "23379\n"
     ]
    }
   ],
   "source": [
    "print df.iloc[1175,3]  # 25%\n",
    "print df.iloc[2351,3]  # 50%\n",
    "print df.iloc[3527,3]  # 75%\n",
    "print df.iloc[4232,3]  # 90%"
   ]
  },
  {
   "cell_type": "code",
   "execution_count": 370,
   "metadata": {
    "collapsed": true
   },
   "outputs": [],
   "source": [
    "def clean(data):\n",
    "    df = pd.merge(data, NTA, how='inner', on='NTAName')\n",
    "    df = df.drop('NTAName', 1)\n",
    "    df['demond_level'] = 0\n",
    "    for i in df.index:\n",
    "        value = df.ix[i]['demond']\n",
    "        if value > 23379:\n",
    "            df.loc[i,['demond_level']] = 4\n",
    "        elif value > 13763:\n",
    "            df.loc[i,['demond_level']] = 3\n",
    "        elif value > 3246:\n",
    "            df.loc[i,['demond_level']] = 2\n",
    "        elif value > 648:\n",
    "            df.loc[i,['demond_level']] = 1\n",
    "        else:\n",
    "            df.loc[i,['demond_level']] = 0\n",
    "    df = df.drop('demond', 1)\n",
    "    \n",
    "    y_train=df.iloc[:,-1] \n",
    "    X_train=df.iloc[:,:-1]\n",
    "    \n",
    "    train = pd.concat([y_train,X_train],axis=1)\n",
    "    \n",
    "    train['day of week'] = train['day of week']+1\n",
    "    train['time of day'] = train['time of day']+1\n",
    "    train['NTA'] = train['NTA']+1\n",
    "    \n",
    "    return train"
   ]
  },
  {
   "cell_type": "code",
   "execution_count": 371,
   "metadata": {
    "collapsed": true
   },
   "outputs": [],
   "source": [
    "data_train_1 = clean(df)"
   ]
  },
  {
   "cell_type": "code",
   "execution_count": 417,
   "metadata": {
    "collapsed": false,
    "scrolled": true
   },
   "outputs": [
    {
     "data": {
      "text/html": [
       "<div>\n",
       "<table border=\"1\" class=\"dataframe\">\n",
       "  <thead>\n",
       "    <tr style=\"text-align: right;\">\n",
       "      <th></th>\n",
       "      <th>demond_level</th>\n",
       "      <th>day of week</th>\n",
       "      <th>time of day</th>\n",
       "      <th>NTA</th>\n",
       "    </tr>\n",
       "  </thead>\n",
       "  <tbody>\n",
       "    <tr>\n",
       "      <th>0</th>\n",
       "      <td>0</td>\n",
       "      <td>2</td>\n",
       "      <td>4</td>\n",
       "      <td>28</td>\n",
       "    </tr>\n",
       "    <tr>\n",
       "      <th>1</th>\n",
       "      <td>0</td>\n",
       "      <td>3</td>\n",
       "      <td>11</td>\n",
       "      <td>28</td>\n",
       "    </tr>\n",
       "    <tr>\n",
       "      <th>2</th>\n",
       "      <td>0</td>\n",
       "      <td>1</td>\n",
       "      <td>4</td>\n",
       "      <td>28</td>\n",
       "    </tr>\n",
       "    <tr>\n",
       "      <th>3</th>\n",
       "      <td>0</td>\n",
       "      <td>3</td>\n",
       "      <td>17</td>\n",
       "      <td>28</td>\n",
       "    </tr>\n",
       "    <tr>\n",
       "      <th>4</th>\n",
       "      <td>0</td>\n",
       "      <td>2</td>\n",
       "      <td>3</td>\n",
       "      <td>28</td>\n",
       "    </tr>\n",
       "  </tbody>\n",
       "</table>\n",
       "</div>"
      ],
      "text/plain": [
       "   demond_level  day of week  time of day  NTA\n",
       "0             0            2            4   28\n",
       "1             0            3           11   28\n",
       "2             0            1            4   28\n",
       "3             0            3           17   28\n",
       "4             0            2            3   28"
      ]
     },
     "execution_count": 417,
     "metadata": {},
     "output_type": "execute_result"
    }
   ],
   "source": [
    "data_train_1.head()"
   ]
  },
  {
   "cell_type": "code",
   "execution_count": 374,
   "metadata": {
    "collapsed": false
   },
   "outputs": [],
   "source": [
    "ind=stats.bernoulli.rvs(p = 0.75, size = len(data_train_1.index))\n",
    "train=data_train_1[ind==1]\n",
    "test=data_train_1[ind==0]"
   ]
  },
  {
   "cell_type": "code",
   "execution_count": 375,
   "metadata": {
    "collapsed": false,
    "scrolled": false
   },
   "outputs": [
    {
     "data": {
      "text/plain": [
       "[   demond_level day of week time of day         NTA\n",
       " 1      0.253481    0.147982   0.0381166    0.149103\n",
       " 2           NaN    0.137892   0.0493274           0\n",
       " 3           NaN    0.158072   0.0538117           0\n",
       " 4           NaN    0.144619   0.0627803   0.0403587\n",
       " 5           NaN    0.146861   0.0695067           0\n",
       " 6           NaN    0.131166   0.0661435           0\n",
       " 7           NaN    0.133408   0.0358744           0\n",
       " 8           NaN           0   0.0336323           0\n",
       " 9           NaN           0   0.0302691    0.142377\n",
       " 10          NaN           0   0.0369955   0.0134529\n",
       " 11          NaN           0    0.044843           0\n",
       " 12          NaN           0   0.0403587           0\n",
       " 13          NaN           0   0.0369955           0\n",
       " 14          NaN           0   0.0369955           0\n",
       " 15          NaN           0   0.0358744           0\n",
       " 16          NaN           0   0.0325112   0.0179372\n",
       " 17          NaN           0   0.0470852           0\n",
       " 18          NaN           0   0.0381166   0.0392377\n",
       " 19          NaN           0   0.0336323           0\n",
       " 20          NaN           0   0.0381166           0\n",
       " 21          NaN           0   0.0369955   0.0123318\n",
       " 22          NaN           0   0.0313901    0.142377\n",
       " 23          NaN           0   0.0369955    0.142377\n",
       " 24          NaN           0   0.0336323    0.137892\n",
       " 25          NaN           0           0   0.0325112\n",
       " 26          NaN           0           0           0\n",
       " 27          NaN           0           0  0.00112108\n",
       " 28          NaN           0           0    0.128924,\n",
       "    demond_level day of week time of day         NTA\n",
       " 1      0.246945    0.146145   0.0356732           0\n",
       " 2           NaN    0.146145   0.0379747  0.00115075\n",
       " 3           NaN    0.142693   0.0586881  0.00460299\n",
       " 4           NaN    0.133487   0.0586881    0.105869\n",
       " 5           NaN    0.140391   0.0667434           0\n",
       " 6           NaN     0.13809   0.0598389  0.00805524\n",
       " 7           NaN    0.153049   0.0506329    0.023015\n",
       " 8           NaN           0   0.0563867           0\n",
       " 9           NaN           0   0.0391254  0.00115075\n",
       " 10          NaN           0   0.0391254    0.124281\n",
       " 11          NaN           0   0.0287687   0.0713464\n",
       " 12          NaN           0   0.0345224   0.0195627\n",
       " 13          NaN           0   0.0368239   0.0345224\n",
       " 14          NaN           0   0.0425777    0.027618\n",
       " 15          NaN           0   0.0437284   0.0264672\n",
       " 16          NaN           0   0.0356732    0.125432\n",
       " 17          NaN           0   0.0345224   0.0172612\n",
       " 18          NaN           0   0.0333717    0.100115\n",
       " 19          NaN           0   0.0299194   0.0207135\n",
       " 20          NaN           0   0.0345224   0.0103567\n",
       " 21          NaN           0   0.0368239    0.110472\n",
       " 22          NaN           0   0.0402762           0\n",
       " 23          NaN           0   0.0345224           0\n",
       " 24          NaN           0   0.0310702   0.0126582\n",
       " 25          NaN           0           0    0.109321\n",
       " 26          NaN           0           0   0.0207135\n",
       " 27          NaN           0           0   0.0253165\n",
       " 28          NaN           0           0           0,\n",
       "    demond_level day of week time of day         NTA\n",
       " 1      0.251492    0.135593   0.0655367           0\n",
       " 2           NaN    0.124294   0.0440678   0.0282486\n",
       " 3           NaN    0.120904   0.0474576   0.0881356\n",
       " 4           NaN    0.135593   0.0316384           0\n",
       " 5           NaN    0.158192   0.0316384   0.0180791\n",
       " 6           NaN    0.145763   0.0508475   0.0316384\n",
       " 7           NaN    0.179661   0.0666667   0.0553672\n",
       " 8           NaN           0   0.0531073   0.0305085\n",
       " 9           NaN           0   0.0485876           0\n",
       " 10          NaN           0    0.040678   0.0079096\n",
       " 11          NaN           0    0.039548   0.0655367\n",
       " 12          NaN           0   0.0259887   0.0485876\n",
       " 13          NaN           0   0.0338983   0.0983051\n",
       " 14          NaN           0   0.0338983    0.117514\n",
       " 15          NaN           0   0.0361582   0.0271186\n",
       " 16          NaN           0    0.039548  0.00225989\n",
       " 17          NaN           0   0.0542373   0.0542373\n",
       " 18          NaN           0    0.039548           0\n",
       " 19          NaN           0    0.039548    0.107345\n",
       " 20          NaN           0   0.0338983    0.105085\n",
       " 21          NaN           0   0.0282486    0.020339\n",
       " 22          NaN           0   0.0361582           0\n",
       " 23          NaN           0   0.0350282           0\n",
       " 24          NaN           0   0.0440678           0\n",
       " 25          NaN           0           0           0\n",
       " 26          NaN           0           0   0.0316384\n",
       " 27          NaN           0           0   0.0621469\n",
       " 28          NaN           0           0           0,\n",
       "    demond_level day of week time of day         NTA\n",
       " 1      0.150327    0.134216   0.0321361           0\n",
       " 2           NaN    0.164461   0.0189036    0.113422\n",
       " 3           NaN    0.130435   0.0113422   0.0888469\n",
       " 4           NaN    0.145558  0.00567108           0\n",
       " 5           NaN    0.124764  0.00756144   0.0151229\n",
       " 6           NaN    0.170132           0   0.0907372\n",
       " 7           NaN    0.130435  0.00378072    0.102079\n",
       " 8           NaN           0   0.0529301   0.0245747\n",
       " 9           NaN           0   0.0415879           0\n",
       " 10          NaN           0    0.047259           0\n",
       " 11          NaN           0   0.0529301   0.0094518\n",
       " 12          NaN           0   0.0604915    0.124764\n",
       " 13          NaN           0   0.0623819  0.00567108\n",
       " 14          NaN           0   0.0586011  0.00567108\n",
       " 15          NaN           0   0.0453686   0.0283554\n",
       " 16          NaN           0   0.0510397           0\n",
       " 17          NaN           0   0.0340265    0.126654\n",
       " 18          NaN           0   0.0604915           0\n",
       " 19          NaN           0   0.0567108  0.00378072\n",
       " 20          NaN           0   0.0586011   0.0302457\n",
       " 21          NaN           0   0.0642722           0\n",
       " 22          NaN           0   0.0661626           0\n",
       " 23          NaN           0   0.0604915           0\n",
       " 24          NaN           0    0.047259           0\n",
       " 25          NaN           0           0           0\n",
       " 26          NaN           0           0    0.136106\n",
       " 27          NaN           0           0    0.094518\n",
       " 28          NaN           0           0           0,\n",
       "    demond_level day of week time of day         NTA\n",
       " 1      0.097755    0.136628   0.0465116           0\n",
       " 2           NaN    0.174419   0.0348837   0.0930233\n",
       " 3           NaN    0.168605   0.0232558  0.00290698\n",
       " 4           NaN    0.139535   0.0145349           0\n",
       " 5           NaN    0.136628           0    0.302326\n",
       " 6           NaN    0.133721           0    0.110465\n",
       " 7           NaN    0.110465   0.0116279  0.00581395\n",
       " 8           NaN           0   0.0290698    0.238372\n",
       " 9           NaN           0   0.0523256           0\n",
       " 10          NaN           0   0.0494186           0\n",
       " 11          NaN           0   0.0406977  0.00581395\n",
       " 12          NaN           0   0.0377907   0.0232558\n",
       " 13          NaN           0   0.0494186           0\n",
       " 14          NaN           0   0.0406977           0\n",
       " 15          NaN           0   0.0523256    0.180233\n",
       " 16          NaN           0   0.0406977           0\n",
       " 17          NaN           0   0.0436047           0\n",
       " 18          NaN           0   0.0639535           0\n",
       " 19          NaN           0   0.0581395           0\n",
       " 20          NaN           0   0.0813953   0.0261628\n",
       " 21          NaN           0   0.0610465           0\n",
       " 22          NaN           0   0.0639535           0\n",
       " 23          NaN           0   0.0610465           0\n",
       " 24          NaN           0   0.0436047           0\n",
       " 25          NaN           0           0           0\n",
       " 26          NaN           0           0   0.0116279\n",
       " 27          NaN           0           0           0\n",
       " 28          NaN           0           0           0]"
      ]
     },
     "execution_count": 375,
     "metadata": {},
     "output_type": "execute_result"
    }
   ],
   "source": [
    "dp=trainNaiveBayesDiscrete(train)\n",
    "dp"
   ]
  },
  {
   "cell_type": "code",
   "execution_count": 376,
   "metadata": {
    "collapsed": false,
    "scrolled": true
   },
   "outputs": [
    {
     "data": {
      "text/plain": [
       "77.21518987341773"
      ]
     },
     "execution_count": 376,
     "metadata": {},
     "output_type": "execute_result"
    }
   ],
   "source": [
    "#run the classifier over the test sample\n",
    "C=classifyNaiveBayesDiscrete(test,dp)\n",
    "100.0*sum(C==test.demond_level)/len(C)"
   ]
  },
  {
   "cell_type": "code",
   "execution_count": 377,
   "metadata": {
    "collapsed": false
   },
   "outputs": [
    {
     "data": {
      "text/plain": [
       "77.49360613810742"
      ]
     },
     "execution_count": 377,
     "metadata": {},
     "output_type": "execute_result"
    }
   ],
   "source": [
    "#also compute the accuracy over the training set\n",
    "Ct=classifyNaiveBayesDiscrete(train,dp)\n",
    "100.0*sum(Ct==train.demond_level)/len(Ct)"
   ]
  },
  {
   "cell_type": "markdown",
   "metadata": {},
   "source": [
    "### Demo"
   ]
  },
  {
   "cell_type": "code",
   "execution_count": 418,
   "metadata": {
    "collapsed": false,
    "scrolled": false
   },
   "outputs": [
    {
     "data": {
      "text/html": [
       "<div>\n",
       "<table border=\"1\" class=\"dataframe\">\n",
       "  <thead>\n",
       "    <tr style=\"text-align: right;\">\n",
       "      <th></th>\n",
       "      <th>NTA</th>\n",
       "      <th>NTAName</th>\n",
       "    </tr>\n",
       "  </thead>\n",
       "  <tbody>\n",
       "    <tr>\n",
       "      <th>0</th>\n",
       "      <td>0</td>\n",
       "      <td>Manhattanville</td>\n",
       "    </tr>\n",
       "    <tr>\n",
       "      <th>1</th>\n",
       "      <td>1</td>\n",
       "      <td>West Village</td>\n",
       "    </tr>\n",
       "    <tr>\n",
       "      <th>2</th>\n",
       "      <td>2</td>\n",
       "      <td>Clinton</td>\n",
       "    </tr>\n",
       "    <tr>\n",
       "      <th>3</th>\n",
       "      <td>3</td>\n",
       "      <td>Central Harlem South</td>\n",
       "    </tr>\n",
       "    <tr>\n",
       "      <th>4</th>\n",
       "      <td>4</td>\n",
       "      <td>Midtown-Midtown South</td>\n",
       "    </tr>\n",
       "    <tr>\n",
       "      <th>5</th>\n",
       "      <td>5</td>\n",
       "      <td>Turtle Bay-East Midtown</td>\n",
       "    </tr>\n",
       "    <tr>\n",
       "      <th>6</th>\n",
       "      <td>6</td>\n",
       "      <td>Lenox Hill-Roosevelt Island</td>\n",
       "    </tr>\n",
       "    <tr>\n",
       "      <th>7</th>\n",
       "      <td>7</td>\n",
       "      <td>Hudson Yards-Chelsea-Flatiron-Union Square</td>\n",
       "    </tr>\n",
       "    <tr>\n",
       "      <th>8</th>\n",
       "      <td>8</td>\n",
       "      <td>Hamilton Heights</td>\n",
       "    </tr>\n",
       "    <tr>\n",
       "      <th>9</th>\n",
       "      <td>9</td>\n",
       "      <td>Lower East Side</td>\n",
       "    </tr>\n",
       "    <tr>\n",
       "      <th>10</th>\n",
       "      <td>10</td>\n",
       "      <td>Chinatown</td>\n",
       "    </tr>\n",
       "    <tr>\n",
       "      <th>11</th>\n",
       "      <td>11</td>\n",
       "      <td>SoHo-TriBeCa-Civic Center-Little Italy</td>\n",
       "    </tr>\n",
       "    <tr>\n",
       "      <th>12</th>\n",
       "      <td>12</td>\n",
       "      <td>Battery Park City-Lower Manhattan</td>\n",
       "    </tr>\n",
       "    <tr>\n",
       "      <th>13</th>\n",
       "      <td>13</td>\n",
       "      <td>Yorkville</td>\n",
       "    </tr>\n",
       "    <tr>\n",
       "      <th>14</th>\n",
       "      <td>14</td>\n",
       "      <td>Upper East Side-Carnegie Hill</td>\n",
       "    </tr>\n",
       "    <tr>\n",
       "      <th>15</th>\n",
       "      <td>15</td>\n",
       "      <td>East Harlem South</td>\n",
       "    </tr>\n",
       "    <tr>\n",
       "      <th>16</th>\n",
       "      <td>16</td>\n",
       "      <td>Murray Hill-Kips Bay</td>\n",
       "    </tr>\n",
       "    <tr>\n",
       "      <th>17</th>\n",
       "      <td>17</td>\n",
       "      <td>Stuyvesant Town-Cooper Village</td>\n",
       "    </tr>\n",
       "    <tr>\n",
       "      <th>18</th>\n",
       "      <td>18</td>\n",
       "      <td>Gramercy</td>\n",
       "    </tr>\n",
       "    <tr>\n",
       "      <th>19</th>\n",
       "      <td>19</td>\n",
       "      <td>East Village</td>\n",
       "    </tr>\n",
       "    <tr>\n",
       "      <th>20</th>\n",
       "      <td>20</td>\n",
       "      <td>Morningside Heights</td>\n",
       "    </tr>\n",
       "    <tr>\n",
       "      <th>21</th>\n",
       "      <td>21</td>\n",
       "      <td>Washington Heights North</td>\n",
       "    </tr>\n",
       "    <tr>\n",
       "      <th>22</th>\n",
       "      <td>22</td>\n",
       "      <td>Washington Heights South</td>\n",
       "    </tr>\n",
       "    <tr>\n",
       "      <th>23</th>\n",
       "      <td>23</td>\n",
       "      <td>Central Harlem North-Polo Grounds</td>\n",
       "    </tr>\n",
       "    <tr>\n",
       "      <th>24</th>\n",
       "      <td>24</td>\n",
       "      <td>East Harlem North</td>\n",
       "    </tr>\n",
       "    <tr>\n",
       "      <th>25</th>\n",
       "      <td>25</td>\n",
       "      <td>Upper West Side</td>\n",
       "    </tr>\n",
       "    <tr>\n",
       "      <th>26</th>\n",
       "      <td>26</td>\n",
       "      <td>Lincoln Square</td>\n",
       "    </tr>\n",
       "    <tr>\n",
       "      <th>27</th>\n",
       "      <td>27</td>\n",
       "      <td>Marble Hill-Inwood</td>\n",
       "    </tr>\n",
       "  </tbody>\n",
       "</table>\n",
       "</div>"
      ],
      "text/plain": [
       "    NTA                                     NTAName\n",
       "0     0                              Manhattanville\n",
       "1     1                                West Village\n",
       "2     2                                     Clinton\n",
       "3     3                        Central Harlem South\n",
       "4     4                       Midtown-Midtown South\n",
       "5     5                     Turtle Bay-East Midtown\n",
       "6     6                 Lenox Hill-Roosevelt Island\n",
       "7     7  Hudson Yards-Chelsea-Flatiron-Union Square\n",
       "8     8                            Hamilton Heights\n",
       "9     9                             Lower East Side\n",
       "10   10                                   Chinatown\n",
       "11   11      SoHo-TriBeCa-Civic Center-Little Italy\n",
       "12   12           Battery Park City-Lower Manhattan\n",
       "13   13                                   Yorkville\n",
       "14   14               Upper East Side-Carnegie Hill\n",
       "15   15                           East Harlem South\n",
       "16   16                        Murray Hill-Kips Bay\n",
       "17   17              Stuyvesant Town-Cooper Village\n",
       "18   18                                    Gramercy\n",
       "19   19                                East Village\n",
       "20   20                         Morningside Heights\n",
       "21   21                    Washington Heights North\n",
       "22   22                    Washington Heights South\n",
       "23   23           Central Harlem North-Polo Grounds\n",
       "24   24                           East Harlem North\n",
       "25   25                             Upper West Side\n",
       "26   26                              Lincoln Square\n",
       "27   27                          Marble Hill-Inwood"
      ]
     },
     "execution_count": 418,
     "metadata": {},
     "output_type": "execute_result"
    }
   ],
   "source": [
    "NTA"
   ]
  },
  {
   "cell_type": "code",
   "execution_count": 387,
   "metadata": {
    "collapsed": false
   },
   "outputs": [
    {
     "data": {
      "text/html": [
       "<div>\n",
       "<table border=\"1\" class=\"dataframe\">\n",
       "  <thead>\n",
       "    <tr style=\"text-align: right;\">\n",
       "      <th></th>\n",
       "      <th>demond_level</th>\n",
       "      <th>day of week</th>\n",
       "      <th>time of day</th>\n",
       "      <th>NTA</th>\n",
       "    </tr>\n",
       "  </thead>\n",
       "  <tbody>\n",
       "    <tr>\n",
       "      <th>0</th>\n",
       "      <td>0</td>\n",
       "      <td>1</td>\n",
       "      <td>22</td>\n",
       "      <td>26</td>\n",
       "    </tr>\n",
       "  </tbody>\n",
       "</table>\n",
       "</div>"
      ],
      "text/plain": [
       "   demond_level  day of week  time of day  NTA\n",
       "0             0            1           22   26"
      ]
     },
     "execution_count": 387,
     "metadata": {},
     "output_type": "execute_result"
    }
   ],
   "source": [
    "demo = pd.DataFrame({'a': [0], #demond_level\n",
    "                      'b': [1], #day of week\n",
    "                      'c': [22], #time of day \n",
    "                      'd': [26] #NTA\n",
    "                     })\n",
    "demo.columns = ['demond_level', 'day of week', 'time of day', 'NTA']\n",
    "\n",
    "demo"
   ]
  },
  {
   "cell_type": "code",
   "execution_count": 419,
   "metadata": {
    "collapsed": false
   },
   "outputs": [
    {
     "name": "stdout",
     "output_type": "stream",
     "text": [
      "The predicted Taxi demond level is: 3\n"
     ]
    }
   ],
   "source": [
    "a = classifyNaiveBayesDiscrete(modle, dp)[0]\n",
    "print 'The predicted Taxi demond level is:', a"
   ]
  }
 ],
 "metadata": {
  "kernelspec": {
   "display_name": "Python 2",
   "language": "python",
   "name": "python2"
  },
  "language_info": {
   "codemirror_mode": {
    "name": "ipython",
    "version": 2
   },
   "file_extension": ".py",
   "mimetype": "text/x-python",
   "name": "python",
   "nbconvert_exporter": "python",
   "pygments_lexer": "ipython2",
   "version": "2.7.10"
  }
 },
 "nbformat": 4,
 "nbformat_minor": 0
}
